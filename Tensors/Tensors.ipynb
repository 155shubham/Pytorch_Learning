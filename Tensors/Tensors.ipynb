{
  "nbformat": 4,
  "nbformat_minor": 0,
  "metadata": {
    "colab": {
      "provenance": [],
      "authorship_tag": "ABX9TyMvIwjCphC7Yl8kOrofU/Ud",
      "include_colab_link": true
    },
    "kernelspec": {
      "name": "python3",
      "display_name": "Python 3"
    },
    "language_info": {
      "name": "python"
    }
  },
  "cells": [
    {
      "cell_type": "markdown",
      "metadata": {
        "id": "view-in-github",
        "colab_type": "text"
      },
      "source": [
        "<a href=\"https://colab.research.google.com/github/155shubham/Pytorch_Learning/blob/main/Tensors/Tensors.ipynb\" target=\"_parent\"><img src=\"https://colab.research.google.com/assets/colab-badge.svg\" alt=\"Open In Colab\"/></a>"
      ]
    },
    {
      "cell_type": "markdown",
      "source": [
        "What are tensors?\n",
        "\n",
        "Tensors are specialiased data structure that are very similar to arrays and matrices.\n",
        "They are very simila to Numpy ndarrays execpt that tensors run on GPUs or other hardware accelerators.\n",
        "Tensors are optimised for automatic differentiation."
      ],
      "metadata": {
        "id": "OyvoWcuY4_Wb"
      }
    },
    {
      "cell_type": "markdown",
      "source": [
        "We will see below some samples and will start by loading torch and numpy library."
      ],
      "metadata": {
        "id": "ifaFPx7A5v2W"
      }
    },
    {
      "cell_type": "code",
      "execution_count": null,
      "metadata": {
        "id": "CtAFbl_pzrTo"
      },
      "outputs": [],
      "source": [
        "import torch\n",
        "import numpy as np"
      ]
    },
    {
      "cell_type": "markdown",
      "source": [
        "Tensors can be initialised in following various ways."
      ],
      "metadata": {
        "id": "seXvBzgB4srQ"
      }
    },
    {
      "cell_type": "code",
      "source": [
        "data = [[1,2], [3,4]]"
      ],
      "metadata": {
        "id": "rJFHEsPR4oZl"
      },
      "execution_count": 2,
      "outputs": []
    },
    {
      "cell_type": "code",
      "source": [],
      "metadata": {
        "id": "jZqsslJe6P8N"
      },
      "execution_count": null,
      "outputs": []
    }
  ]
}